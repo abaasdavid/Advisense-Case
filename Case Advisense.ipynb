{
 "cells": [
  {
   "cell_type": "code",
   "execution_count": 402,
   "id": "07a9d35b",
   "metadata": {},
   "outputs": [],
   "source": [
    "import pandas as pd\n",
    "import json\n",
    "\"This is a string that makes this line exactly seventy-nine characters long.\"\n",
    "\n",
    "def load_data(file_path, sheet_name):\n",
    "    data = pd.read_excel(file_path, sheet_name=sheet_name)\n",
    "    return data\n",
    "\n",
    "def extract_kyc_info(data):\n",
    "    kyc_info = {}\n",
    "    for i in range(0, 50, 5):\n",
    "        customer_info = data.iloc[i:i+5]['KYC Information for 10 Customers:']\n",
    "        customer_id = customer_info.iloc[0].split()[1].strip(':')\n",
    "        name = customer_info.iloc[1].split(': ')[1]\n",
    "        country = customer_info.iloc[2].split(': ')[1]\n",
    "        purpose = customer_info.iloc[3].split(': ')[1]\n",
    "        nature = customer_info.iloc[4].split(': ')[1]\n",
    "\n",
    "        kyc_info[customer_id] = {\n",
    "            'Customer': customer_id,\n",
    "            'Name': name,\n",
    "            'Country': country,\n",
    "            'Purpose': purpose,\n",
    "            'Nature': nature,\n",
    "            'Transactions': {},\n",
    "            'Number of Transactions': 0,\n",
    "            'Risk Class': 'Not Classified'\n",
    "        }\n",
    "    return kyc_info\n",
    "\n",
    "def append_transactions(data, kyc_info):\n",
    "    for _, row in data.iterrows():\n",
    "        customer_id = str(row['Customer_ID'])\n",
    "        if customer_id in kyc_info:\n",
    "            transaction_id = str(row['Transaction_ID'])\n",
    "            transaction = {\n",
    "                'Transaction_ID': row['Transaction_ID'],\n",
    "                'Amount': row['Amount'],\n",
    "                'Date': row['Date'].strftime('%Y-%m-%d'),\n",
    "                'From/To Country': row['From/To Country'],\n",
    "                'Transaction Type': row['Transaction_Type']\n",
    "            }\n",
    "            kyc_info[customer_id]['Transactions'][transaction_id] = transaction\n",
    "            \n",
    "    for customer_id in kyc_info:\n",
    "        number_of_transactions = len(kyc_info[customer_id]['Transactions'])\n",
    "    kyc_info[customer_id]['Number of Transactions'] = number_of_transactions\n",
    "\n",
    "    return kyc_info\n"
   ]
  },
  {
   "cell_type": "code",
   "execution_count": 403,
   "id": "64a7dee1",
   "metadata": {},
   "outputs": [],
   "source": [
    "def classify_risk(customers):\n",
    "    high_risk_countries = ['Russia', 'UAE', 'Oman']\n",
    "    low_risk_countries = ['Sweden', 'Italy', 'Germany',\n",
    "                          'Japan', 'France', 'Spain', 'USA']\n",
    "    high_risk_purpose = ['trader', 'real estate', 'dealer', 'luxury']\n",
    "    high_risk_transaction_types = ['Transfer']\n",
    "    high_risk_nature = ['sporadic', 'large', 'irregular']\n",
    "    \n",
    "    risk_points = {}\n",
    "    \n",
    "    for customer_id, info in customers.items():\n",
    "        risk_score = 0\n",
    "\n",
    "        if info['Country'] in high_risk_countries:\n",
    "            risk_score += 5\n",
    "            \n",
    "        if info['Country'] in low_risk_countries:\n",
    "            risk_score -= 0.5\n",
    "\n",
    "        if any(word in info['Purpose'].lower() for word in high_risk_purpose):\n",
    "            risk_score += 2\n",
    "\n",
    "        if any(word in info['Nature'].lower() for word in high_risk_nature):\n",
    "            risk_score += 3.5\n",
    "\n",
    "        for transaction in info['Transactions'].values():\n",
    "            if transaction['Transaction Type'] in high_risk_transaction_types:\n",
    "                risk_score += 0.5\n",
    "\n",
    "        if risk_score >= 5:\n",
    "            risk_class = 'High Risk'\n",
    "        elif risk_score >= 4.5:\n",
    "            risk_class = 'Normal Risk'\n",
    "        else:\n",
    "            risk_class = 'Low Risk'\n",
    "\n",
    "        customers[customer_id]['Risk Class'] = risk_class\n",
    "        risk_points[customer_id] = (risk_score, risk_class)\n",
    "    \n",
    "    return customers, risk_points\n"
   ]
  },
  {
   "cell_type": "code",
   "execution_count": 404,
   "id": "83a5c36c",
   "metadata": {},
   "outputs": [],
   "source": [
    "def main():\n",
    "    file_path = '/Users/davidabaas/Downloads/Case data risk analyst AML 240607.xlsx'\n",
    "    sheet_name = 'Sheet1'\n",
    "    data = load_data(file_path, sheet_name)\n",
    "    \n",
    "    kyc_info = extract_kyc_info(data)\n",
    "    transaction_data = data.reset_index(drop=True)\n",
    "    kyc_info = append_transactions(transaction_data, kyc_info)\n",
    "    \n",
    "    kyc_info, risk_points = classify_risk(kyc_info)\n",
    "    \n",
    "    kyc_info_json = json.dumps(kyc_info, indent=4)\n",
    "    print(kyc_info_json)\n",
    "    \n",
    "    print(\"\\nCustomer Risk Points and Class:\")\n",
    "    for customer_id, (points, risk_class) in risk_points.items():\n",
    "        print(f\"Customer ID {customer_id}: {points} points, {risk_class}\")\n",
    "\n",
    "    return kyc_info\n",
    "\n",
    "if __name__ == \"__main__\":\n",
    "    kyc_info = main()"
   ]
  },
  {
   "cell_type": "code",
   "execution_count": 405,
   "id": "384b59a1",
   "metadata": {
    "scrolled": true
   },
   "outputs": [],
   "source": [
    "Customer_ID = '1007'\n",
    "print(json.dumps(kyc_info[Customer_ID], indent = 4))"
   ]
  },
  {
   "cell_type": "code",
   "execution_count": 406,
   "id": "1bd8b4b0",
   "metadata": {},
   "outputs": [],
   "source": [
    "Transaction_ID = '97'\n",
    "kyc_info['1007']['Transactions'][Transaction_ID]"
   ]
  },
  {
   "cell_type": "code",
   "execution_count": 407,
   "id": "4b4512a5",
   "metadata": {},
   "outputs": [],
   "source": [
    "def print_high_risk_customers(customers):\n",
    "    print(\"\\nHigh Risk Customers:\")\n",
    "    for customer_id, info in customers.items():\n",
    "        if info['Risk Class'] == 'High Risk':\n",
    "            print(f\"Customer ID {customer_id}\")\n",
    "            \n",
    "print_high_risk_customers(kyc_info)"
   ]
  },
  {
   "cell_type": "code",
   "execution_count": null,
   "id": "db8626bc",
   "metadata": {},
   "outputs": [],
   "source": []
  },
  {
   "cell_type": "code",
   "execution_count": null,
   "id": "9864e52a",
   "metadata": {},
   "outputs": [],
   "source": []
  }
 ],
 "metadata": {
  "kernelspec": {
   "display_name": "Python 3 (ipykernel)",
   "language": "python",
   "name": "python3"
  },
  "language_info": {
   "codemirror_mode": {
    "name": "ipython",
    "version": 3
   },
   "file_extension": ".py",
   "mimetype": "text/x-python",
   "name": "python",
   "nbconvert_exporter": "python",
   "pygments_lexer": "ipython3",
   "version": "3.9.13"
  }
 },
 "nbformat": 4,
 "nbformat_minor": 5
}
